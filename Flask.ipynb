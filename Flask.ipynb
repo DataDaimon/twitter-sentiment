{
 "cells": [
  {
   "cell_type": "code",
   "execution_count": 1,
   "id": "83d74428",
   "metadata": {},
   "outputs": [],
   "source": [
    "# pip install flask"
   ]
  },
  {
   "cell_type": "code",
   "execution_count": 2,
   "id": "d988a916",
   "metadata": {},
   "outputs": [],
   "source": [
    "# importing required libraries\n",
    "import pandas as pd\n",
    "from sklearn.feature_extraction.text import ENGLISH_STOP_WORDS, TfidfVectorizer\n",
    "from sklearn.linear_model import LogisticRegression\n",
    "from sklearn.pipeline import Pipeline\n",
    "from sklearn.metrics import f1_score\n",
    "from sklearn.model_selection import train_test_split"
   ]
  },
  {
   "cell_type": "code",
   "execution_count": 3,
   "id": "e698b27a",
   "metadata": {},
   "outputs": [
    {
     "data": {
      "text/html": [
       "<div>\n",
       "<style scoped>\n",
       "    .dataframe tbody tr th:only-of-type {\n",
       "        vertical-align: middle;\n",
       "    }\n",
       "\n",
       "    .dataframe tbody tr th {\n",
       "        vertical-align: top;\n",
       "    }\n",
       "\n",
       "    .dataframe thead th {\n",
       "        text-align: right;\n",
       "    }\n",
       "</style>\n",
       "<table border=\"1\" class=\"dataframe\">\n",
       "  <thead>\n",
       "    <tr style=\"text-align: right;\">\n",
       "      <th></th>\n",
       "      <th>id</th>\n",
       "      <th>label</th>\n",
       "      <th>tweet</th>\n",
       "    </tr>\n",
       "  </thead>\n",
       "  <tbody>\n",
       "    <tr>\n",
       "      <th>0</th>\n",
       "      <td>1</td>\n",
       "      <td>0</td>\n",
       "      <td>@user when a father is dysfunctional and is s...</td>\n",
       "    </tr>\n",
       "    <tr>\n",
       "      <th>1</th>\n",
       "      <td>2</td>\n",
       "      <td>0</td>\n",
       "      <td>@user @user thanks for #lyft credit i can't us...</td>\n",
       "    </tr>\n",
       "    <tr>\n",
       "      <th>2</th>\n",
       "      <td>3</td>\n",
       "      <td>0</td>\n",
       "      <td>bihday your majesty</td>\n",
       "    </tr>\n",
       "    <tr>\n",
       "      <th>3</th>\n",
       "      <td>4</td>\n",
       "      <td>0</td>\n",
       "      <td>#model   i love u take with u all the time in ...</td>\n",
       "    </tr>\n",
       "    <tr>\n",
       "      <th>4</th>\n",
       "      <td>5</td>\n",
       "      <td>0</td>\n",
       "      <td>factsguide: society now    #motivation</td>\n",
       "    </tr>\n",
       "  </tbody>\n",
       "</table>\n",
       "</div>"
      ],
      "text/plain": [
       "   id  label                                              tweet\n",
       "0   1      0   @user when a father is dysfunctional and is s...\n",
       "1   2      0  @user @user thanks for #lyft credit i can't us...\n",
       "2   3      0                                bihday your majesty\n",
       "3   4      0  #model   i love u take with u all the time in ...\n",
       "4   5      0             factsguide: society now    #motivation"
      ]
     },
     "execution_count": 3,
     "metadata": {},
     "output_type": "execute_result"
    }
   ],
   "source": [
    "# read the dataset\n",
    "data = pd.read_csv('twitter_sentiments.csv')\n",
    "# view the top rows\n",
    "data.head()"
   ]
  },
  {
   "cell_type": "code",
   "execution_count": 4,
   "id": "364f43b3",
   "metadata": {},
   "outputs": [
    {
     "data": {
      "text/plain": [
       "((25569, 3), (6393, 3))"
      ]
     },
     "execution_count": 4,
     "metadata": {},
     "output_type": "execute_result"
    }
   ],
   "source": [
    "# train test split\n",
    "train, test = train_test_split(data, test_size = 0.2, stratify = data['label'], random_state=21)\n",
    "\n",
    "# get the shape of train and test split.\n",
    "train.shape, test.shape\n",
    "## >> ((25569, 3), (6393, 3))"
   ]
  },
  {
   "cell_type": "code",
   "execution_count": 5,
   "id": "8408ba81",
   "metadata": {},
   "outputs": [
    {
     "data": {
      "text/html": [
       "<style>#sk-container-id-1 {color: black;background-color: white;}#sk-container-id-1 pre{padding: 0;}#sk-container-id-1 div.sk-toggleable {background-color: white;}#sk-container-id-1 label.sk-toggleable__label {cursor: pointer;display: block;width: 100%;margin-bottom: 0;padding: 0.3em;box-sizing: border-box;text-align: center;}#sk-container-id-1 label.sk-toggleable__label-arrow:before {content: \"▸\";float: left;margin-right: 0.25em;color: #696969;}#sk-container-id-1 label.sk-toggleable__label-arrow:hover:before {color: black;}#sk-container-id-1 div.sk-estimator:hover label.sk-toggleable__label-arrow:before {color: black;}#sk-container-id-1 div.sk-toggleable__content {max-height: 0;max-width: 0;overflow: hidden;text-align: left;background-color: #f0f8ff;}#sk-container-id-1 div.sk-toggleable__content pre {margin: 0.2em;color: black;border-radius: 0.25em;background-color: #f0f8ff;}#sk-container-id-1 input.sk-toggleable__control:checked~div.sk-toggleable__content {max-height: 200px;max-width: 100%;overflow: auto;}#sk-container-id-1 input.sk-toggleable__control:checked~label.sk-toggleable__label-arrow:before {content: \"▾\";}#sk-container-id-1 div.sk-estimator input.sk-toggleable__control:checked~label.sk-toggleable__label {background-color: #d4ebff;}#sk-container-id-1 div.sk-label input.sk-toggleable__control:checked~label.sk-toggleable__label {background-color: #d4ebff;}#sk-container-id-1 input.sk-hidden--visually {border: 0;clip: rect(1px 1px 1px 1px);clip: rect(1px, 1px, 1px, 1px);height: 1px;margin: -1px;overflow: hidden;padding: 0;position: absolute;width: 1px;}#sk-container-id-1 div.sk-estimator {font-family: monospace;background-color: #f0f8ff;border: 1px dotted black;border-radius: 0.25em;box-sizing: border-box;margin-bottom: 0.5em;}#sk-container-id-1 div.sk-estimator:hover {background-color: #d4ebff;}#sk-container-id-1 div.sk-parallel-item::after {content: \"\";width: 100%;border-bottom: 1px solid gray;flex-grow: 1;}#sk-container-id-1 div.sk-label:hover label.sk-toggleable__label {background-color: #d4ebff;}#sk-container-id-1 div.sk-serial::before {content: \"\";position: absolute;border-left: 1px solid gray;box-sizing: border-box;top: 0;bottom: 0;left: 50%;z-index: 0;}#sk-container-id-1 div.sk-serial {display: flex;flex-direction: column;align-items: center;background-color: white;padding-right: 0.2em;padding-left: 0.2em;position: relative;}#sk-container-id-1 div.sk-item {position: relative;z-index: 1;}#sk-container-id-1 div.sk-parallel {display: flex;align-items: stretch;justify-content: center;background-color: white;position: relative;}#sk-container-id-1 div.sk-item::before, #sk-container-id-1 div.sk-parallel-item::before {content: \"\";position: absolute;border-left: 1px solid gray;box-sizing: border-box;top: 0;bottom: 0;left: 50%;z-index: -1;}#sk-container-id-1 div.sk-parallel-item {display: flex;flex-direction: column;z-index: 1;position: relative;background-color: white;}#sk-container-id-1 div.sk-parallel-item:first-child::after {align-self: flex-end;width: 50%;}#sk-container-id-1 div.sk-parallel-item:last-child::after {align-self: flex-start;width: 50%;}#sk-container-id-1 div.sk-parallel-item:only-child::after {width: 0;}#sk-container-id-1 div.sk-dashed-wrapped {border: 1px dashed gray;margin: 0 0.4em 0.5em 0.4em;box-sizing: border-box;padding-bottom: 0.4em;background-color: white;}#sk-container-id-1 div.sk-label label {font-family: monospace;font-weight: bold;display: inline-block;line-height: 1.2em;}#sk-container-id-1 div.sk-label-container {text-align: center;}#sk-container-id-1 div.sk-container {/* jupyter's `normalize.less` sets `[hidden] { display: none; }` but bootstrap.min.css set `[hidden] { display: none !important; }` so we also need the `!important` here to be able to override the default hidden behavior on the sphinx rendered scikit-learn.org. See: https://github.com/scikit-learn/scikit-learn/issues/21755 */display: inline-block !important;position: relative;}#sk-container-id-1 div.sk-text-repr-fallback {display: none;}</style><div id=\"sk-container-id-1\" class=\"sk-top-container\"><div class=\"sk-text-repr-fallback\"><pre>TfidfVectorizer(max_features=1000,\n",
       "                stop_words=frozenset({&#x27;a&#x27;, &#x27;about&#x27;, &#x27;above&#x27;, &#x27;across&#x27;, &#x27;after&#x27;,\n",
       "                                      &#x27;afterwards&#x27;, &#x27;again&#x27;, &#x27;against&#x27;, &#x27;all&#x27;,\n",
       "                                      &#x27;almost&#x27;, &#x27;alone&#x27;, &#x27;along&#x27;, &#x27;already&#x27;,\n",
       "                                      &#x27;also&#x27;, &#x27;although&#x27;, &#x27;always&#x27;, &#x27;am&#x27;,\n",
       "                                      &#x27;among&#x27;, &#x27;amongst&#x27;, &#x27;amoungst&#x27;, &#x27;amount&#x27;,\n",
       "                                      &#x27;an&#x27;, &#x27;and&#x27;, &#x27;another&#x27;, &#x27;any&#x27;, &#x27;anyhow&#x27;,\n",
       "                                      &#x27;anyone&#x27;, &#x27;anything&#x27;, &#x27;anyway&#x27;,\n",
       "                                      &#x27;anywhere&#x27;, ...}))</pre><b>In a Jupyter environment, please rerun this cell to show the HTML representation or trust the notebook. <br />On GitHub, the HTML representation is unable to render, please try loading this page with nbviewer.org.</b></div><div class=\"sk-container\" hidden><div class=\"sk-item\"><div class=\"sk-estimator sk-toggleable\"><input class=\"sk-toggleable__control sk-hidden--visually\" id=\"sk-estimator-id-1\" type=\"checkbox\" checked><label for=\"sk-estimator-id-1\" class=\"sk-toggleable__label sk-toggleable__label-arrow\">TfidfVectorizer</label><div class=\"sk-toggleable__content\"><pre>TfidfVectorizer(max_features=1000,\n",
       "                stop_words=frozenset({&#x27;a&#x27;, &#x27;about&#x27;, &#x27;above&#x27;, &#x27;across&#x27;, &#x27;after&#x27;,\n",
       "                                      &#x27;afterwards&#x27;, &#x27;again&#x27;, &#x27;against&#x27;, &#x27;all&#x27;,\n",
       "                                      &#x27;almost&#x27;, &#x27;alone&#x27;, &#x27;along&#x27;, &#x27;already&#x27;,\n",
       "                                      &#x27;also&#x27;, &#x27;although&#x27;, &#x27;always&#x27;, &#x27;am&#x27;,\n",
       "                                      &#x27;among&#x27;, &#x27;amongst&#x27;, &#x27;amoungst&#x27;, &#x27;amount&#x27;,\n",
       "                                      &#x27;an&#x27;, &#x27;and&#x27;, &#x27;another&#x27;, &#x27;any&#x27;, &#x27;anyhow&#x27;,\n",
       "                                      &#x27;anyone&#x27;, &#x27;anything&#x27;, &#x27;anyway&#x27;,\n",
       "                                      &#x27;anywhere&#x27;, ...}))</pre></div></div></div></div></div>"
      ],
      "text/plain": [
       "TfidfVectorizer(max_features=1000,\n",
       "                stop_words=frozenset({'a', 'about', 'above', 'across', 'after',\n",
       "                                      'afterwards', 'again', 'against', 'all',\n",
       "                                      'almost', 'alone', 'along', 'already',\n",
       "                                      'also', 'although', 'always', 'am',\n",
       "                                      'among', 'amongst', 'amoungst', 'amount',\n",
       "                                      'an', 'and', 'another', 'any', 'anyhow',\n",
       "                                      'anyone', 'anything', 'anyway',\n",
       "                                      'anywhere', ...}))"
      ]
     },
     "execution_count": 5,
     "metadata": {},
     "output_type": "execute_result"
    }
   ],
   "source": [
    "# create a TF-IDF vectorizer object\n",
    "tfidf_vectorizer = TfidfVectorizer(lowercase= True, max_features=1000, stop_words=ENGLISH_STOP_WORDS)\n",
    "\n",
    "# fit the object with the training data tweets\n",
    "tfidf_vectorizer.fit(train.tweet)"
   ]
  },
  {
   "cell_type": "code",
   "execution_count": 6,
   "id": "916e6602",
   "metadata": {},
   "outputs": [],
   "source": [
    "# transform the train and test data\n",
    "train_idf = tfidf_vectorizer.transform(train.tweet)\n",
    "test_idf  = tfidf_vectorizer.transform(test.tweet)"
   ]
  },
  {
   "cell_type": "code",
   "execution_count": 7,
   "id": "ed6fc388",
   "metadata": {},
   "outputs": [
    {
     "data": {
      "text/plain": [
       "0.45751633986928114"
      ]
     },
     "execution_count": 7,
     "metadata": {},
     "output_type": "execute_result"
    }
   ],
   "source": [
    "# create the object of LinearRegression Model\n",
    "model_LR = LogisticRegression()\n",
    "\n",
    "# fit the model with the training data\n",
    "model_LR.fit(train_idf, train.label)\n",
    "\n",
    "# predict the label on the traning data\n",
    "predict_train = model_LR.predict(train_idf)\n",
    "\n",
    "# predict the model on the test data\n",
    "predict_test = model_LR.predict(test_idf)\n",
    "\n",
    "# f1 score on train data\n",
    "f1_score(y_true= train.label, y_pred= predict_train)\n",
    "## >> 0.4888178913738019\n",
    "\n",
    "f1_score(y_true= test.label, y_pred= predict_test)\n",
    "## >> 0.45751633986928114"
   ]
  },
  {
   "cell_type": "code",
   "execution_count": 8,
   "id": "afb47f6e",
   "metadata": {},
   "outputs": [
    {
     "data": {
      "text/html": [
       "<style>#sk-container-id-2 {color: black;background-color: white;}#sk-container-id-2 pre{padding: 0;}#sk-container-id-2 div.sk-toggleable {background-color: white;}#sk-container-id-2 label.sk-toggleable__label {cursor: pointer;display: block;width: 100%;margin-bottom: 0;padding: 0.3em;box-sizing: border-box;text-align: center;}#sk-container-id-2 label.sk-toggleable__label-arrow:before {content: \"▸\";float: left;margin-right: 0.25em;color: #696969;}#sk-container-id-2 label.sk-toggleable__label-arrow:hover:before {color: black;}#sk-container-id-2 div.sk-estimator:hover label.sk-toggleable__label-arrow:before {color: black;}#sk-container-id-2 div.sk-toggleable__content {max-height: 0;max-width: 0;overflow: hidden;text-align: left;background-color: #f0f8ff;}#sk-container-id-2 div.sk-toggleable__content pre {margin: 0.2em;color: black;border-radius: 0.25em;background-color: #f0f8ff;}#sk-container-id-2 input.sk-toggleable__control:checked~div.sk-toggleable__content {max-height: 200px;max-width: 100%;overflow: auto;}#sk-container-id-2 input.sk-toggleable__control:checked~label.sk-toggleable__label-arrow:before {content: \"▾\";}#sk-container-id-2 div.sk-estimator input.sk-toggleable__control:checked~label.sk-toggleable__label {background-color: #d4ebff;}#sk-container-id-2 div.sk-label input.sk-toggleable__control:checked~label.sk-toggleable__label {background-color: #d4ebff;}#sk-container-id-2 input.sk-hidden--visually {border: 0;clip: rect(1px 1px 1px 1px);clip: rect(1px, 1px, 1px, 1px);height: 1px;margin: -1px;overflow: hidden;padding: 0;position: absolute;width: 1px;}#sk-container-id-2 div.sk-estimator {font-family: monospace;background-color: #f0f8ff;border: 1px dotted black;border-radius: 0.25em;box-sizing: border-box;margin-bottom: 0.5em;}#sk-container-id-2 div.sk-estimator:hover {background-color: #d4ebff;}#sk-container-id-2 div.sk-parallel-item::after {content: \"\";width: 100%;border-bottom: 1px solid gray;flex-grow: 1;}#sk-container-id-2 div.sk-label:hover label.sk-toggleable__label {background-color: #d4ebff;}#sk-container-id-2 div.sk-serial::before {content: \"\";position: absolute;border-left: 1px solid gray;box-sizing: border-box;top: 0;bottom: 0;left: 50%;z-index: 0;}#sk-container-id-2 div.sk-serial {display: flex;flex-direction: column;align-items: center;background-color: white;padding-right: 0.2em;padding-left: 0.2em;position: relative;}#sk-container-id-2 div.sk-item {position: relative;z-index: 1;}#sk-container-id-2 div.sk-parallel {display: flex;align-items: stretch;justify-content: center;background-color: white;position: relative;}#sk-container-id-2 div.sk-item::before, #sk-container-id-2 div.sk-parallel-item::before {content: \"\";position: absolute;border-left: 1px solid gray;box-sizing: border-box;top: 0;bottom: 0;left: 50%;z-index: -1;}#sk-container-id-2 div.sk-parallel-item {display: flex;flex-direction: column;z-index: 1;position: relative;background-color: white;}#sk-container-id-2 div.sk-parallel-item:first-child::after {align-self: flex-end;width: 50%;}#sk-container-id-2 div.sk-parallel-item:last-child::after {align-self: flex-start;width: 50%;}#sk-container-id-2 div.sk-parallel-item:only-child::after {width: 0;}#sk-container-id-2 div.sk-dashed-wrapped {border: 1px dashed gray;margin: 0 0.4em 0.5em 0.4em;box-sizing: border-box;padding-bottom: 0.4em;background-color: white;}#sk-container-id-2 div.sk-label label {font-family: monospace;font-weight: bold;display: inline-block;line-height: 1.2em;}#sk-container-id-2 div.sk-label-container {text-align: center;}#sk-container-id-2 div.sk-container {/* jupyter's `normalize.less` sets `[hidden] { display: none; }` but bootstrap.min.css set `[hidden] { display: none !important; }` so we also need the `!important` here to be able to override the default hidden behavior on the sphinx rendered scikit-learn.org. See: https://github.com/scikit-learn/scikit-learn/issues/21755 */display: inline-block !important;position: relative;}#sk-container-id-2 div.sk-text-repr-fallback {display: none;}</style><div id=\"sk-container-id-2\" class=\"sk-top-container\"><div class=\"sk-text-repr-fallback\"><pre>Pipeline(steps=[(&#x27;tfidf&#x27;,\n",
       "                 TfidfVectorizer(max_features=1000,\n",
       "                                 stop_words=frozenset({&#x27;a&#x27;, &#x27;about&#x27;, &#x27;above&#x27;,\n",
       "                                                       &#x27;across&#x27;, &#x27;after&#x27;,\n",
       "                                                       &#x27;afterwards&#x27;, &#x27;again&#x27;,\n",
       "                                                       &#x27;against&#x27;, &#x27;all&#x27;,\n",
       "                                                       &#x27;almost&#x27;, &#x27;alone&#x27;,\n",
       "                                                       &#x27;along&#x27;, &#x27;already&#x27;,\n",
       "                                                       &#x27;also&#x27;, &#x27;although&#x27;,\n",
       "                                                       &#x27;always&#x27;, &#x27;am&#x27;, &#x27;among&#x27;,\n",
       "                                                       &#x27;amongst&#x27;, &#x27;amoungst&#x27;,\n",
       "                                                       &#x27;amount&#x27;, &#x27;an&#x27;, &#x27;and&#x27;,\n",
       "                                                       &#x27;another&#x27;, &#x27;any&#x27;,\n",
       "                                                       &#x27;anyhow&#x27;, &#x27;anyone&#x27;,\n",
       "                                                       &#x27;anything&#x27;, &#x27;anyway&#x27;,\n",
       "                                                       &#x27;anywhere&#x27;, ...}))),\n",
       "                (&#x27;model&#x27;, LogisticRegression())])</pre><b>In a Jupyter environment, please rerun this cell to show the HTML representation or trust the notebook. <br />On GitHub, the HTML representation is unable to render, please try loading this page with nbviewer.org.</b></div><div class=\"sk-container\" hidden><div class=\"sk-item sk-dashed-wrapped\"><div class=\"sk-label-container\"><div class=\"sk-label sk-toggleable\"><input class=\"sk-toggleable__control sk-hidden--visually\" id=\"sk-estimator-id-2\" type=\"checkbox\" ><label for=\"sk-estimator-id-2\" class=\"sk-toggleable__label sk-toggleable__label-arrow\">Pipeline</label><div class=\"sk-toggleable__content\"><pre>Pipeline(steps=[(&#x27;tfidf&#x27;,\n",
       "                 TfidfVectorizer(max_features=1000,\n",
       "                                 stop_words=frozenset({&#x27;a&#x27;, &#x27;about&#x27;, &#x27;above&#x27;,\n",
       "                                                       &#x27;across&#x27;, &#x27;after&#x27;,\n",
       "                                                       &#x27;afterwards&#x27;, &#x27;again&#x27;,\n",
       "                                                       &#x27;against&#x27;, &#x27;all&#x27;,\n",
       "                                                       &#x27;almost&#x27;, &#x27;alone&#x27;,\n",
       "                                                       &#x27;along&#x27;, &#x27;already&#x27;,\n",
       "                                                       &#x27;also&#x27;, &#x27;although&#x27;,\n",
       "                                                       &#x27;always&#x27;, &#x27;am&#x27;, &#x27;among&#x27;,\n",
       "                                                       &#x27;amongst&#x27;, &#x27;amoungst&#x27;,\n",
       "                                                       &#x27;amount&#x27;, &#x27;an&#x27;, &#x27;and&#x27;,\n",
       "                                                       &#x27;another&#x27;, &#x27;any&#x27;,\n",
       "                                                       &#x27;anyhow&#x27;, &#x27;anyone&#x27;,\n",
       "                                                       &#x27;anything&#x27;, &#x27;anyway&#x27;,\n",
       "                                                       &#x27;anywhere&#x27;, ...}))),\n",
       "                (&#x27;model&#x27;, LogisticRegression())])</pre></div></div></div><div class=\"sk-serial\"><div class=\"sk-item\"><div class=\"sk-estimator sk-toggleable\"><input class=\"sk-toggleable__control sk-hidden--visually\" id=\"sk-estimator-id-3\" type=\"checkbox\" ><label for=\"sk-estimator-id-3\" class=\"sk-toggleable__label sk-toggleable__label-arrow\">TfidfVectorizer</label><div class=\"sk-toggleable__content\"><pre>TfidfVectorizer(max_features=1000,\n",
       "                stop_words=frozenset({&#x27;a&#x27;, &#x27;about&#x27;, &#x27;above&#x27;, &#x27;across&#x27;, &#x27;after&#x27;,\n",
       "                                      &#x27;afterwards&#x27;, &#x27;again&#x27;, &#x27;against&#x27;, &#x27;all&#x27;,\n",
       "                                      &#x27;almost&#x27;, &#x27;alone&#x27;, &#x27;along&#x27;, &#x27;already&#x27;,\n",
       "                                      &#x27;also&#x27;, &#x27;although&#x27;, &#x27;always&#x27;, &#x27;am&#x27;,\n",
       "                                      &#x27;among&#x27;, &#x27;amongst&#x27;, &#x27;amoungst&#x27;, &#x27;amount&#x27;,\n",
       "                                      &#x27;an&#x27;, &#x27;and&#x27;, &#x27;another&#x27;, &#x27;any&#x27;, &#x27;anyhow&#x27;,\n",
       "                                      &#x27;anyone&#x27;, &#x27;anything&#x27;, &#x27;anyway&#x27;,\n",
       "                                      &#x27;anywhere&#x27;, ...}))</pre></div></div></div><div class=\"sk-item\"><div class=\"sk-estimator sk-toggleable\"><input class=\"sk-toggleable__control sk-hidden--visually\" id=\"sk-estimator-id-4\" type=\"checkbox\" ><label for=\"sk-estimator-id-4\" class=\"sk-toggleable__label sk-toggleable__label-arrow\">LogisticRegression</label><div class=\"sk-toggleable__content\"><pre>LogisticRegression()</pre></div></div></div></div></div></div></div>"
      ],
      "text/plain": [
       "Pipeline(steps=[('tfidf',\n",
       "                 TfidfVectorizer(max_features=1000,\n",
       "                                 stop_words=frozenset({'a', 'about', 'above',\n",
       "                                                       'across', 'after',\n",
       "                                                       'afterwards', 'again',\n",
       "                                                       'against', 'all',\n",
       "                                                       'almost', 'alone',\n",
       "                                                       'along', 'already',\n",
       "                                                       'also', 'although',\n",
       "                                                       'always', 'am', 'among',\n",
       "                                                       'amongst', 'amoungst',\n",
       "                                                       'amount', 'an', 'and',\n",
       "                                                       'another', 'any',\n",
       "                                                       'anyhow', 'anyone',\n",
       "                                                       'anything', 'anyway',\n",
       "                                                       'anywhere', ...}))),\n",
       "                ('model', LogisticRegression())])"
      ]
     },
     "execution_count": 8,
     "metadata": {},
     "output_type": "execute_result"
    }
   ],
   "source": [
    "# define the stages of the pipeline\n",
    "pipeline = Pipeline(steps= [('tfidf', TfidfVectorizer(lowercase=True,\n",
    "                                                      max_features=1000,\n",
    "                                                      stop_words= ENGLISH_STOP_WORDS)),\n",
    "                            ('model', LogisticRegression())])\n",
    "\n",
    "# fit the pipeline model with the training data                            \n",
    "pipeline.fit(train.tweet, train.label)"
   ]
  },
  {
   "cell_type": "code",
   "execution_count": 9,
   "id": "7f4cce21",
   "metadata": {},
   "outputs": [
    {
     "data": {
      "text/plain": [
       "array([0], dtype=int64)"
      ]
     },
     "execution_count": 9,
     "metadata": {},
     "output_type": "execute_result"
    }
   ],
   "source": [
    "# sample tweet\n",
    "text = [\"Virat Kohli, AB de Villiers set to auction their 'Green Day' kits from 2016 IPL match to raise funds\"]\n",
    "\n",
    "# predict the label using the pipeline\n",
    "pipeline.predict(text)\n",
    "## >> array([0])"
   ]
  },
  {
   "cell_type": "code",
   "execution_count": 10,
   "id": "7a2011cc",
   "metadata": {},
   "outputs": [],
   "source": [
    "# import joblib\n",
    "from joblib import dump"
   ]
  },
  {
   "cell_type": "code",
   "execution_count": 11,
   "id": "03bd5931",
   "metadata": {},
   "outputs": [
    {
     "data": {
      "text/plain": [
       "['text_classification.joblib']"
      ]
     },
     "execution_count": 11,
     "metadata": {},
     "output_type": "execute_result"
    }
   ],
   "source": [
    "# dump the pipeline model\n",
    "dump(pipeline, filename=\"text_classification.joblib\")"
   ]
  },
  {
   "cell_type": "code",
   "execution_count": 12,
   "id": "129df75c",
   "metadata": {},
   "outputs": [
    {
     "data": {
      "text/plain": [
       "array([0], dtype=int64)"
      ]
     },
     "execution_count": 12,
     "metadata": {},
     "output_type": "execute_result"
    }
   ],
   "source": [
    "# import joblib\n",
    "from joblib import load\n",
    "\n",
    "# sample tweet text\n",
    "text = [\"Virat Kohli, AB de Villiers set to auction their 'Green Day' kits from 2016 IPL match to raise funds\"]\n",
    "\n",
    "# load the saved pipleine model\n",
    "pipeline = load(\"text_classification.joblib\")\n",
    "\n",
    "# predict on the sample tweet text\n",
    "pipeline.predict(text)\n",
    "## >> array([0])"
   ]
  },
  {
   "cell_type": "code",
   "execution_count": 13,
   "id": "1334d3d6",
   "metadata": {},
   "outputs": [],
   "source": [
    "# !pip3 install tweepy"
   ]
  },
  {
   "cell_type": "code",
   "execution_count": 14,
   "id": "d1f14cd0",
   "metadata": {},
   "outputs": [],
   "source": [
    "# import required libraries\n",
    "import tweepy\n",
    "import time\n",
    "import pandas as pd\n",
    "pd.set_option('display.max_colwidth', 1000)\n",
    "\n",
    "# api key\n",
    "api_key = \"xxxx\"\n",
    "# api secret key\n",
    "api_secret_key = \"xxxx\"\n",
    "# access token\n",
    "access_token = \"xxxx\"\n",
    "# access token secret\n",
    "access_token_secret = \"xxxx\"\n",
    "\n",
    "# authorize the API Key\n",
    "authentication = tweepy.OAuthHandler(api_key, api_secret_key)\n",
    "\n",
    "# authorization to user's access token and access token secret\n",
    "authentication.set_access_token(access_token, access_token_secret)\n",
    "\n",
    "# call the api\n",
    "api = tweepy.API(authentication, wait_on_rate_limit=True)"
   ]
  },
  {
   "cell_type": "code",
   "execution_count": 15,
   "id": "4c55f82d",
   "metadata": {},
   "outputs": [],
   "source": [
    "def get_related_tweets(text_query):\n",
    "    # list to store tweets\n",
    "    tweets_list = []\n",
    "    # no of tweets\n",
    "    count = 50\n",
    "    try:\n",
    "        # Pulling individual tweets from query\n",
    "        for tweet in api.search_tweets(q=text_query, count=count):\n",
    "            print(tweet.text)\n",
    "            # Adding to list that contains all tweets\n",
    "            tweets_list.append({'created_at': tweet.created_at,\n",
    "                                'tweet_id': tweet.id,\n",
    "                                'tweet_text': tweet.text})\n",
    "        return pd.DataFrame.from_dict(tweets_list)\n",
    "\n",
    "    except BaseException as e:\n",
    "        print('failed on_status,', str(e))\n",
    "        time.sleep(3)"
   ]
  },
  {
   "cell_type": "code",
   "execution_count": 16,
   "id": "7f39609a",
   "metadata": {},
   "outputs": [],
   "source": [
    "from get_tweets import get_related_tweets"
   ]
  },
  {
   "cell_type": "code",
   "execution_count": 17,
   "id": "767e3959",
   "metadata": {},
   "outputs": [],
   "source": [
    "# importing the required libraries\n",
    "from flask import Flask, render_template, request, redirect, url_for\n",
    "from joblib import load\n",
    "\n",
    "\n",
    "# load the pipeline object\n",
    "pipeline = load(\"text_classification.joblib\")\n",
    "\n",
    "# function to get results for a particular text query\n",
    "def requestResults(name):\n",
    "    # get the tweets text\n",
    "    tweets = get_related_tweets(name)\n",
    "    # get the prediction\n",
    "    tweets['prediction'] = pipeline.predict(tweets['tweet_text'])\n",
    "    # get the value counts of different labels predicted\n",
    "    data = str(tweets.prediction.value_counts()) + '\\n\\n'\n",
    "    return data + str(tweets)"
   ]
  },
  {
   "cell_type": "code",
   "execution_count": 18,
   "id": "be2d5566",
   "metadata": {},
   "outputs": [],
   "source": [
    "# start flask\n",
    "app = Flask(__name__)\n",
    "\n",
    "# render default webpage\n",
    "@app.route('/')\n",
    "def home():\n",
    "    return render_template('home.html')\n",
    "\n",
    "# when the post method detect, then redirect to success function\n",
    "@app.route('/', methods=['POST', 'GET'])\n",
    "def get_data():\n",
    "    if request.method == 'POST':\n",
    "        user = request.form['search']\n",
    "        return redirect(url_for('success', name=user))\n",
    "\n",
    "# get the data for the requested query\n",
    "@app.route('/success/<name>')\n",
    "def success(name):\n",
    "    return \"<xmp>\" + str(requestResults(name)) + \" </xmp> \""
   ]
  },
  {
   "cell_type": "code",
   "execution_count": null,
   "id": "32c64d3d",
   "metadata": {},
   "outputs": [
    {
     "name": "stdout",
     "output_type": "stream",
     "text": [
      " * Serving Flask app '__main__' (lazy loading)\n",
      " * Environment: production\n",
      "\u001b[31m   WARNING: This is a development server. Do not use it in a production deployment.\u001b[0m\n",
      "\u001b[2m   Use a production WSGI server instead.\u001b[0m\n",
      " * Debug mode: off\n"
     ]
    },
    {
     "name": "stderr",
     "output_type": "stream",
     "text": [
      " * Running on http://127.0.0.1:5000/ (Press CTRL+C to quit)\n",
      "127.0.0.1 - - [04/Dec/2022 22:34:25] \"GET / HTTP/1.1\" 200 -\n",
      "127.0.0.1 - - [04/Dec/2022 22:34:40] \"POST / HTTP/1.1\" 302 -\n",
      "127.0.0.1 - - [04/Dec/2022 22:34:42] \"GET /success/Elon%20Musk HTTP/1.1\" 200 -\n"
     ]
    },
    {
     "name": "stdout",
     "output_type": "stream",
     "text": [
      "RT @jamisonfoser: It has been 22 hours since Matt Taibbi posted the personal email address of a member of congress in a thread promoted by…\n",
      "RT @vanessavallej0: “¡Si cometo suicidio no es real!”\n",
      "\n",
      "Elon Musk acaba de decir esto en un Space en Twitter. Parece que el nuevo dueño de l…\n",
      "@IanJaegerNPC Elon Musk’s “big scoop”: Basically the Biden campaign team (not the Government) asked Twitter (a priv… https://t.co/7zjdII4Hc9\n",
      "RT @lordivan22: Brasil 🇧🇷: A mídia internacional repercute a declaração feita por Elon  Musk, de que funcionários do Twitter no Brasil, pod…\n",
      "RT @lordivan22: Brasil 🇧🇷: A mídia internacional repercute a declaração feita por Elon  Musk, de que funcionários do Twitter no Brasil, pod…\n",
      "RT @CNN: Two watchdog groups have published research that indicates Elon Musk’s claim that hate speech dramatically decreased on Twitter si…\n",
      "RT @rmotta2: Conforme prometido, segue a primeira parte dos “Arquivos do Twitter”, cuja publicação foi determinada por Elon Musk, e que voc…\n",
      "Elon Musk's Company Seeks Permission To Test Brain Implants In People - HuffPost https://t.co/UGxAQ6urck #Forumidex #Trending #HotTopics\n",
      "RT @f_philippot: Les révélations explosives d’Elon Musk ne font pas la une ! On comprend pourquoi ! \n",
      "Sur la censure, Hunter Biden, les élec…\n",
      "RT @JonathanTurley: “Handled.” That one word, responding to a 2020 demand to censor a list of Twitter users, speaks volumes about the thous…\n",
      "RT @OccupyDemocrats: When progressive outlets are comparing @elonmusk to FOX News’ host Tucker Carlson, you know that he has hit rock botto…\n",
      "RT @f_philippot: Étonnamment la presse ne parle quasiment pas des révélations explosives d’Elon Musk sur Twitter et l’affaire Hunter Biden…\n",
      "@BB_00001000 @biz @goldman seems like more than Elon\n",
      "https://t.co/PyzBHsjFoQ\n",
      "RT @OzraeliAvi: #BREAKING: Elon Musk confirms he is NOT suicidal in case they Epstein him.\n",
      "RT @theRealKiyosaki: Why Silicon Valley’s WOKE fear MUSK: Musk is an entrepreneur.  He does not need a job or money. He beat BIG BANKS with…\n",
      "RT @PoPrawnik2: Elon Musk przejmując Twittera zapowiedział, że chce go uczynić \"centrum wolności słowa\". To zwykły bullshit, bo zapomniał d…\n",
      "RT @f_philippot: Les révélations explosives d’Elon Musk ne font pas la une ! On comprend pourquoi ! \n",
      "Sur la censure, Hunter Biden, les élec…\n",
      "RT @PrisonPlanet: Elon Musk: \"The risk of something happening to me is quite significant.\"\n",
      "\n",
      "https://t.co/Rl6K0ObIrV\n",
      "RT @theRealKiyosaki: Why Silicon Valley’s WOKE fear MUSK: Musk is an entrepreneur.  He does not need a job or money. He beat BIG BANKS with…\n",
      "RT @JonathanTurley: “Handled.” That one word, responding to a 2020 demand to censor a list of Twitter users, speaks volumes about the thous…\n",
      "RT @PrisonPlanet: Elon Musk: \"The risk of something happening to me is quite significant.\"\n",
      "\n",
      "https://t.co/Rl6K0ObIrV\n",
      "RT @Markus_Krall: Wer ein Unternehmen zum nachhaltigen Erfolg führen will, muss denken und fühlen wie seine Kunden, nicht wie die veröffent…\n",
      "RT @nikitheblogger: Die EU droht Elon Musk also ernsthaft damit Twitter zu verbannen, wenn gewisse Zwänge und Einschränkungen der Meinungsf…\n",
      "RT @JuanitoSay: ¿Se acuerdan que en 2020 salio una informacion sobre una supuesta computadora de Hunter Biden, hijo de Elon Musk y todos lo…\n",
      "RT @ericareport: BREAKING: Elon Musk, the richest man in the world, disrespectfully called Senator Warren \"Senator Karen\" and said she remi…\n",
      "RT @DashDobrofsky: Elon Musk spoke with Putin. Then, he bought Twitter. Then, he endorsed the Republicans who promised to cut off funding t…\n",
      "RT @TravisAllen02: BREAKING: Elon Musk just accidentally revealed that the Trump White House was using Twitter to censor his critics in vio…\n",
      "RT @ArchbpVigano: ..this historical moment sees the forces of Evil aligned in a battle without quarter against the forces of Good; forces o…\n",
      "RT @tiefenschaerfer: Dieser Thread gewinnt übrigens deutlich, sobald man checkt, dass hier die erste Ehefrau von Elon Musk spricht: 🍿😏 http…\n",
      "Elon Musk Suspects Former FTX CEO Sam Bankman-Fried Donated Over $1 Billion to Support Democrats – Bitcoin News - B… https://t.co/kNSYZuQOwX\n",
      "RT @alx: Elon Musk says there are 'more smoking guns' to come and he's not suicidal, and reveals he will release ALL of the Twitter Files i…\n",
      "RT @ACTBrigitte: Why isn't the mainstream media talking about Elon Musk's Twitter files dump?\n",
      "RT @ArchbpVigano: ..this historical moment sees the forces of Evil aligned in a battle without quarter against the forces of Good; forces o…\n",
      "RT @HukAleksandra: Elon Musk could retire and ride off into the sunset, yet he chose to fight corruption. It’s incredible really.\n",
      "RT @MattWallace888: Elon Musk is going to put the mainstream media out of business!\n",
      "RT @Liberfach0: Aquí les dejo el hilo realizado con mayor detalle sobre la información que Elon Musk y su equipo acaban de exponer, espero…\n",
      "RT @rmotta2: Conforme prometido, segue a primeira parte dos “Arquivos do Twitter”, cuja publicação foi determinada por Elon Musk, e que voc…\n",
      "RT @OsmarTerra: Novo dono do Twitter, Elon Musk suspeita que rede social tenha beneficiado esquerda nas eleições brasileiras - Conexão Polí…\n",
      "RT @MariaFdaCabal: Las Big Tech son cómplices de la destrucción de las democracias.  https://t.co/I46pfPfiXH\n",
      "RT @ChuckCallesto: BREAKING NOW: Elon Musk Suggests Labeling Certain CORPORATE MEDIA OUTLETS as State Sponsored Media..\n",
      "RT @JuanitoSay: ¿Se acuerdan que en 2020 salio una informacion sobre una supuesta computadora de Hunter Biden, hijo de Elon Musk y todos lo…\n",
      "RT @catturd2: What Elon Musk revealed yesterday is the Biden regime is the most corrupt pResidency in U.S. history. \n",
      "\n",
      "These are all slimy,…\n",
      "RT @gaceta_es: Elon Musk afirma que la anterior dirección de Twitter pudo interferir a favor de Lula da Silva en las pasadas elecciones de…\n",
      "RT @NonaConta_: Elon Musk, está moderando pessoalmente os tuites a respeito das eleições brasileiras. Na manhã deste sábado (3), o bilionár…\n",
      "RT @TerraBrasilnot: Repórter escolhido por Elon Musk para expor relatório do Twitter é fortemente atacado por jornalistas de esquerda https…\n",
      "RT @JuanitoSay: ¿Se acuerdan que en 2020 salio una informacion sobre una supuesta computadora de Hunter Biden, hijo de Elon Musk y todos lo…\n",
      "RT @Liberfach0: Elon Musk acaba de liberar los archivos secretos de la anterior gestión de twitter, en este corto hilo, explico lo turbio q…\n",
      "RT @JonathanTurley: “Handled.” That one word, responding to a 2020 demand to censor a list of Twitter users, speaks volumes about the thous…\n",
      "RT @MayoIsSpicyy: Elon Musk is actively working against the United States. He has no loyalty to America. Who is pulling his strings?\n",
      "RT @abc_es: Elon Musk amenaza con destapar más escándalos encubiertos por Twitter tras revelar la protección a Hunter Biden, el polémico hi…\n"
     ]
    },
    {
     "name": "stderr",
     "output_type": "stream",
     "text": [
      "127.0.0.1 - - [04/Dec/2022 22:34:42] \"GET /favicon.ico HTTP/1.1\" 404 -\n",
      "127.0.0.1 - - [04/Dec/2022 22:36:02] \"GET / HTTP/1.1\" 200 -\n",
      "127.0.0.1 - - [04/Dec/2022 22:41:22] \"POST / HTTP/1.1\" 302 -\n",
      "127.0.0.1 - - [04/Dec/2022 22:41:23] \"GET /success/elon%20musk HTTP/1.1\" 200 -\n"
     ]
    },
    {
     "name": "stdout",
     "output_type": "stream",
     "text": [
      "RT @lordivan22: Brasil 🇧🇷: A mídia internacional repercute a declaração feita por Elon  Musk, de que funcionários do Twitter no Brasil, pod…\n",
      "RT @OzraeliAvi: #BREAKING: Elon Musk confirms he is NOT suicidal in case they Epstein him.\n",
      "RT @JayneZirkle: Brazilian Leftist Censorship Exposed: Jayne Zirkle Explains Concerning Revelations From Elon Musk On The United States' Br…\n",
      "RT @mirandadevine: Column’s up: What’s missing from Elon Musk’s #TwitterFiles: the truth about the FBI https://t.co/AtkUCgOatN\n",
      "Elon Musk blasted the New York Times Saturday for its refusal to cover the ongoing firestorm over political censors… https://t.co/mB8XmRadiR\n",
      "Elon Musk geldi, onlar gitti: Twitter'ı terk eden ünlüler https://t.co/BwoSBVWESy https://t.co/h4KpGxapb7\n",
      "RT @Reuters: ICYMI: Twitter CEO Elon Musk said the social media platform saw 'all-time high' new user signups in the seven days to November…\n",
      "RT @davidmweissman: I know I have asked Elon Musk a couple of times to do his job enforcing Twitter standards by suspending this account. N…\n",
      "RT @GeorgeTakei: Overheard: No one ever tells Elon Musk to go back to Africa.\n",
      "Elon Musk has unleashed the Putin bott farms and nasty old trumpers  on America. The average IQ of twitter users ha… https://t.co/dCIgjRa5KI\n",
      "RT @MikeSington: Elon Musk’s much hyped “Twitter Files” exposé lands with a dud. CBS News, ABC News, The Washington Post, and The New York…\n",
      "RT @lordivan22: Brasil 🇧🇷: A mídia internacional repercute a declaração feita por Elon  Musk, de que funcionários do Twitter no Brasil, pod…\n",
      "RT @EvasTeslaSPlaid: Who thinks Twitter is more fun now than before Elon Musk’s ownership? @elonmusk\n",
      "RT @AmericanoMedia: 🚨#Ahora:\n",
      "\n",
      " “¡Si me suicido no es real!”\n",
      "\n",
      "Acaba de afirmar Elon Musk en un Space de Twitter donde conversa sobre todas l…\n",
      "RT @DailyCaller: Elon Musk has done more for free speech than any politician recently https://t.co/x9kQCLSzED\n",
      "@MikeSington Did Elon Musk also want to punch Pres Macron when he sported a swastika - tilted just like the Nazi.?… https://t.co/KBPXr1IVEG\n",
      "RT @Voice_OfReality: Elon Musk owning twitter is why the other half of the country knows about #HunterBidensLaptop https://t.co/Tk6R7BVBOp\n",
      "RT @TravisAllen02: BREAKING: Elon Musk just accidentally revealed that the Trump White House was using Twitter to censor his critics in vio…\n",
      "RT @andst7: IX. If Twitter is now fighting vigorously against child sexual exploitation content, it's thanks to one person that set it as t…\n",
      "RT @elizableu: Elon Musk has owned Twitter for a little over a month and there has been more progress made around the issue of child sexual…\n",
      "RT @joncoopertweets: I predicted that Elon Musk’s heavily hyped “Twitter Files” exposé would be a big, boring nothing-burger. Now that it’s…\n",
      "RT @DeanObeidallah: Elon Musk released \"files\" about Hunter Biden is to distract from Musk on Friday reinstating a Nazi on Twitter and the…\n",
      "« A ce prix là, invitez plus de monde ». C’est le nouveau film de Jésus &amp; Gabriel pour https://t.co/RhWghd3r1q, en… https://t.co/lIzfE1wiw3\n",
      "RT @AhmedBaba_: So Elon Musk coordinated a leak attempting to accuse the Biden Admin of pressuring Twitter content moderation.\n",
      "\n",
      "What he end…\n",
      "RT @F_Desouche: #TwitterFiles : Elon Musk fait publier des communications internes accablantes sur la censure politique, notamment l'affair…\n",
      "RT @riktroiani: Elon #Musk rivela come #Twitter oscurò il caso di #Biden jr. L'operazione potrebbe essere stata fatta su richiesta del team…\n",
      "RT @ViLiMiGu_Tex: 👀👀👀\n",
      "Veja pública matéria sobre favorecimento do Twitter para esquerda nas eleições do Brasil.\n",
      "https://t.co/0cpa5wMMD3 htt…\n",
      "Elon Musk Set to Drop New Batch of #TwitterFiles ...  On Hunter Biden Laptop  #TMZ https://t.co/qwlPie9Q4o\n",
      "RT @joncoopertweets: I predicted that Elon Musk’s heavily hyped “Twitter Files” exposé would be a big, boring nothing-burger. Now that it’s…\n",
      "RT @PamKeithFL: Dear Twitter advertisers: \n",
      "\n",
      "I want you to understand that if I see your ad on this platform, you aren’t selling me a produc…\n",
      "RT @OzraeliAvi: The mainstream media is officially LOSING its war on Elon Musk.\n",
      "Fuck Elon Musk\n",
      "@SarahSchaub15 @elonmusk Elon Musk is a sad, insecure, lonely little man who needs more help than you or I could ev… https://t.co/tmlC22zOsw\n",
      "RT @AmericanoMedia: 🚨#Ahora:\n",
      "\n",
      " “¡Si me suicido no es real!”\n",
      "\n",
      "Acaba de afirmar Elon Musk en un Space de Twitter donde conversa sobre todas l…\n",
      "RT @ThisIsKyleR: “If you do right by the people, then you generally have the people on your side.”\n",
      "Elon Musk \n",
      "\n",
      "💯\n",
      "RT @theRealKiyosaki: Why Silicon Valley’s WOKE fear MUSK: Musk is an entrepreneur.  He does not need a job or money. He beat BIG BANKS with…\n",
      "RT @DiretoDaAmerica: :: Elon Musk planeja rotular perfis de todas empresas de mídia ocidentais que recebam recursos governamentais como “st…\n",
      "RT @OzraeliAvi: The mainstream media is officially LOSING its war on Elon Musk.\n",
      "RT @JonathanTurley: “Handled.” That one word, responding to a 2020 demand to censor a list of Twitter users, speaks volumes about the thous…\n",
      "RT @SigaGazetaBR: Jornalistas de esquerda atacam repórter escolhido por Elon Musk para expor os arquivos do Twitter https://t.co/McTluqGbpa\n",
      "RT @thebradfordfile: We now know why the regime was freaking out about Elon Musk buying twitter. They're criminals.\n",
      "RT @MikeSington: Elon Musk’s much hyped “Twitter Files” exposé lands with a dud. CBS News, ABC News, The Washington Post, and The New York…\n",
      "RT @neto_kakau: Matt Taibbi, jornalista escolhido por Elon Musk, para divulgar o relatório do twitter sobre possível fraude nas eleições br…\n",
      "RT @AltcoinDailyio: \"PayPal has strayed very far from the path. I do think there is a role for #crypto in the future as a means of ensuring…\n",
      "RT @duty2warn: According to our poll, Vox Populi believe Elon Musk is an enemy of America and the Constitution. https://t.co/aXzwEXplFn\n",
      "@DLF38240585 @BuckSexton That’s because it was just exposed by Elon Musk….oops\n",
      "RT @joncoopertweets: I predicted that Elon Musk’s heavily hyped “Twitter Files” exposé would be a big, boring nothing-burger. Now that it’s…\n",
      "RT @JuanitoSay: ¿Se acuerdan que en 2020 salio una informacion sobre una supuesta computadora de Hunter Biden, hijo de Elon Musk y todos lo…\n",
      "RT @TheDailyShow: Elon Musk is rich in America, just give him what he wants. Stop oppressing him! @ronnychieng https://t.co/TAF5PQGovz\n",
      "RT @MariaFdaCabal: Las Big Tech son cómplices de la destrucción de las democracias.  https://t.co/I46pfPfiXH\n"
     ]
    }
   ],
   "source": [
    "app.run(debug=False)"
   ]
  }
 ],
 "metadata": {
  "kernelspec": {
   "display_name": "Python 3 (ipykernel)",
   "language": "python",
   "name": "python3"
  },
  "language_info": {
   "codemirror_mode": {
    "name": "ipython",
    "version": 3
   },
   "file_extension": ".py",
   "mimetype": "text/x-python",
   "name": "python",
   "nbconvert_exporter": "python",
   "pygments_lexer": "ipython3",
   "version": "3.8.8"
  }
 },
 "nbformat": 4,
 "nbformat_minor": 5
}
